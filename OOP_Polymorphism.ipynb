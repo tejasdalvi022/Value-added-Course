{
  "nbformat": 4,
  "nbformat_minor": 0,
  "metadata": {
    "colab": {
      "provenance": []
    },
    "kernelspec": {
      "name": "python3",
      "display_name": "Python 3"
    },
    "language_info": {
      "name": "python"
    }
  },
  "cells": [
    {
      "cell_type": "markdown",
      "source": [
        "Class is a Template based on which objects can be created.\n",
        "\n",
        "It defines attributes and methods that every object will have.\n",
        "\n",
        "eg. 1. House Plan (3BHK) is a template and based on that template House 1,House 2 and House 3 are the 3 objects created.\n",
        "We can't live in plan, houses can have all properties of plan and its own properties (attributes and methods) also.\n",
        "eg. 2: Class Person(name,gender)\n",
        "P1 is a person. P1 is an object or instance of person class. person is a datatype of p1.\n",
        "p1=person('Tom','Male), P2=person('Mary','Female')\n",
        "When we say p1=person(), constructor __init__() of p1 gets invoked which is written inside person class.\n",
        "When we define any method inside the class including __init__() one parameter is mandatory i.e. self object.\n",
        "\n",
        "When we say p1=person(   ), object p1 is created, method __init__(p1,name,gender) is called. p1,name,gender is passed to init().\n",
        "Any method you define inside class say hello(p1,...) p1 is passed to that method by default.\n",
        "eg. p1.name says hello means Tom says hello.\n",
        "\n",
        "p1 is called 'self' because same object is getting passed into the methods that are there inside the object."
      ],
      "metadata": {
        "id": "7Zf-aoabdsqu"
      }
    },
    {
      "cell_type": "markdown",
      "source": [
        "# **Define a Class**"
      ],
      "metadata": {
        "id": "dULkMTMFDzpp"
      }
    },
    {
      "cell_type": "code",
      "execution_count": null,
      "metadata": {
        "id": "gJ_wW4gvdpLS"
      },
      "outputs": [],
      "source": [
        "# A constructor is a special type of function called to create an object which has a same name as class.\n",
        "# In python constructor is defined as __init__( nam) (double underscore init double underscore)\n",
        "# Define a class\n",
        "class Person:\n",
        "  # Define the constructor\n",
        "  def __init__(self,name,age):\n",
        "    # create and initialize the object\n",
        "    self.name = name\n",
        "    self.age = age\n",
        "  # Define instance method\n",
        "  def say_hello(self):\n",
        "    print(f'{self.name} says hello')\n",
        "\n",
        "  # let us define another method\n",
        "  def is_eligible(self):\n",
        "    if self.age >= 18:\n",
        "      return 'Eligible'\n",
        "    else:\n",
        "      return 'Underage'\n"
      ]
    },
    {
      "cell_type": "markdown",
      "source": [
        "# **Create Objects based on the Class**"
      ],
      "metadata": {
        "id": "ofjufYKhD979"
      }
    },
    {
      "cell_type": "code",
      "source": [
        "# create an object of type Person\n",
        "p1 = Person('Tom',23)"
      ],
      "metadata": {
        "id": "Ao9OLTBnppBX"
      },
      "execution_count": null,
      "outputs": []
    },
    {
      "cell_type": "code",
      "source": [
        "type(p1) # it is an object of type Person"
      ],
      "metadata": {
        "colab": {
          "base_uri": "https://localhost:8080/",
          "height": 103
        },
        "id": "gUAzI2O0sGAV",
        "outputId": "900f4b8a-c517-4243-de82-d3576bef6ff1"
      },
      "execution_count": null,
      "outputs": [
        {
          "output_type": "execute_result",
          "data": {
            "text/plain": [
              "__main__.Person"
            ],
            "text/html": [
              "<div style=\"max-width:800px; border: 1px solid var(--colab-border-color);\"><style>\n",
              "      pre.function-repr-contents {\n",
              "        overflow-x: auto;\n",
              "        padding: 8px 12px;\n",
              "        max-height: 500px;\n",
              "      }\n",
              "\n",
              "      pre.function-repr-contents.function-repr-contents-collapsed {\n",
              "        cursor: pointer;\n",
              "        max-height: 100px;\n",
              "      }\n",
              "    </style>\n",
              "    <pre style=\"white-space: initial; background:\n",
              "         var(--colab-secondary-surface-color); padding: 8px 12px;\n",
              "         border-bottom: 1px solid var(--colab-border-color);\"><b>Person</b><br/>def __init__(name, age)</pre><pre class=\"function-repr-contents function-repr-contents-collapsed\" style=\"\"><a class=\"filepath\" style=\"display:none\" href=\"#\"></a>&lt;no docstring&gt;</pre></div>"
            ]
          },
          "metadata": {},
          "execution_count": 3
        }
      ]
    },
    {
      "cell_type": "code",
      "source": [
        "# call method\n",
        "p1.say_hello()"
      ],
      "metadata": {
        "colab": {
          "base_uri": "https://localhost:8080/"
        },
        "id": "8ltgEMMCqEE_",
        "outputId": "18a5870a-a339-406e-e611-830516b1ced1"
      },
      "execution_count": null,
      "outputs": [
        {
          "output_type": "stream",
          "name": "stdout",
          "text": [
            "Tom says hello\n"
          ]
        }
      ]
    },
    {
      "cell_type": "code",
      "source": [
        "p1.is_eligible()"
      ],
      "metadata": {
        "colab": {
          "base_uri": "https://localhost:8080/",
          "height": 36
        },
        "id": "7uvoA8zGtFI3",
        "outputId": "a4753a4b-c9df-4ac1-8cbc-e8091134f97d"
      },
      "execution_count": null,
      "outputs": [
        {
          "output_type": "execute_result",
          "data": {
            "text/plain": [
              "'Eligible'"
            ],
            "application/vnd.google.colaboratory.intrinsic+json": {
              "type": "string"
            }
          },
          "metadata": {},
          "execution_count": 5
        }
      ]
    },
    {
      "cell_type": "code",
      "source": [
        "p2 = Person('Mary',17)"
      ],
      "metadata": {
        "id": "_gdDTW4qqLY1"
      },
      "execution_count": null,
      "outputs": []
    },
    {
      "cell_type": "code",
      "source": [
        "p2.say_hello()"
      ],
      "metadata": {
        "colab": {
          "base_uri": "https://localhost:8080/"
        },
        "id": "g2KIoVWJqbtC",
        "outputId": "e5fc33c7-1761-4150-c64e-c79ee8aaf0f3"
      },
      "execution_count": null,
      "outputs": [
        {
          "output_type": "stream",
          "name": "stdout",
          "text": [
            "Mary says hello\n"
          ]
        }
      ]
    },
    {
      "cell_type": "code",
      "source": [
        "p2.is_eligible()"
      ],
      "metadata": {
        "colab": {
          "base_uri": "https://localhost:8080/",
          "height": 36
        },
        "id": "hSQjzw7UEKv4",
        "outputId": "12e7b819-b3f2-4c76-d4e0-d0fca4a2c40b"
      },
      "execution_count": null,
      "outputs": [
        {
          "output_type": "execute_result",
          "data": {
            "text/plain": [
              "'Underage'"
            ],
            "application/vnd.google.colaboratory.intrinsic+json": {
              "type": "string"
            }
          },
          "metadata": {},
          "execution_count": 8
        }
      ]
    },
    {
      "cell_type": "code",
      "source": [
        "p2.age"
      ],
      "metadata": {
        "colab": {
          "base_uri": "https://localhost:8080/"
        },
        "id": "rRLl_566qoB4",
        "outputId": "e91a8c36-c8a9-4de7-cd93-30f9e4cbb3f8"
      },
      "execution_count": null,
      "outputs": [
        {
          "output_type": "execute_result",
          "data": {
            "text/plain": [
              "17"
            ]
          },
          "metadata": {},
          "execution_count": 10
        }
      ]
    },
    {
      "cell_type": "code",
      "source": [
        "p2.name"
      ],
      "metadata": {
        "colab": {
          "base_uri": "https://localhost:8080/",
          "height": 36
        },
        "id": "ApREodrkqrEI",
        "outputId": "29766a9d-9e2a-4440-f287-b1ab7c6ad4e1"
      },
      "execution_count": null,
      "outputs": [
        {
          "output_type": "execute_result",
          "data": {
            "text/plain": [
              "'Mary'"
            ],
            "application/vnd.google.colaboratory.intrinsic+json": {
              "type": "string"
            }
          },
          "metadata": {},
          "execution_count": 12
        }
      ]
    },
    {
      "cell_type": "code",
      "source": [
        "p2.__dict__ # it gives us attributes of p2 object"
      ],
      "metadata": {
        "colab": {
          "base_uri": "https://localhost:8080/"
        },
        "id": "GocKdNH1qtFG",
        "outputId": "6152f0ec-4751-4fd6-9e45-c595f20be4f4"
      },
      "execution_count": null,
      "outputs": [
        {
          "output_type": "execute_result",
          "data": {
            "text/plain": [
              "{'name': 'Mary', 'age': 17}"
            ]
          },
          "metadata": {},
          "execution_count": 13
        }
      ]
    },
    {
      "cell_type": "markdown",
      "source": [
        "Define a class called Student"
      ],
      "metadata": {
        "id": "iGKac5DfGUBN"
      }
    },
    {
      "cell_type": "code",
      "source": [
        "# Class name start with capital letter... it's a naming convention\n",
        "class Student:\n",
        "  def __init__(self,name,marks,course): #self is always 1st parameter for the constructor\n",
        "  # create and initialize the object\n",
        "    self.name = name\n",
        "    self.marks = marks\n",
        "    self.course = course\n",
        "\n",
        "  # define a method\n",
        "  def grades(self):\n",
        "    if self.marks >= 80:\n",
        "      return 'Distinction'\n",
        "    elif self.marks >= 60:\n",
        "      return 'First Class'\n",
        "    elif self.marks >= 50:\n",
        "      return 'Second Class'\n",
        "    else:\n",
        "      return 'Fail'"
      ],
      "metadata": {
        "id": "Qu3GPf7EqgJ5"
      },
      "execution_count": null,
      "outputs": []
    },
    {
      "cell_type": "code",
      "source": [
        "# Create students of type Student\n",
        "s1 = Student('Tom',75,'Python')"
      ],
      "metadata": {
        "id": "GBXHBuXEIOf2"
      },
      "execution_count": null,
      "outputs": []
    },
    {
      "cell_type": "code",
      "source": [
        "s1.__dict__ # see properties of 1st student"
      ],
      "metadata": {
        "colab": {
          "base_uri": "https://localhost:8080/"
        },
        "id": "2XY9tZ7DIlnh",
        "outputId": "2ee3d8e0-9b84-403a-d3e6-7ae9d661ccac"
      },
      "execution_count": null,
      "outputs": [
        {
          "output_type": "execute_result",
          "data": {
            "text/plain": [
              "{'name': 'Tom', 'marks': 75, 'course': 'Python'}"
            ]
          },
          "metadata": {},
          "execution_count": 16
        }
      ]
    },
    {
      "cell_type": "code",
      "source": [
        "s2 = Student('Mary',45,'Data Science')"
      ],
      "metadata": {
        "id": "x2-0lOETIpgC"
      },
      "execution_count": null,
      "outputs": []
    },
    {
      "cell_type": "code",
      "source": [
        "s2.__dict__ # see properties of 2nd student"
      ],
      "metadata": {
        "colab": {
          "base_uri": "https://localhost:8080/"
        },
        "id": "9oP6JvrOIukK",
        "outputId": "3f586e75-9016-4988-ec26-1f3a0b4732cb"
      },
      "execution_count": null,
      "outputs": [
        {
          "output_type": "execute_result",
          "data": {
            "text/plain": [
              "{'name': 'Mary', 'marks': 45, 'course': 'Data Science'}"
            ]
          },
          "metadata": {},
          "execution_count": 18
        }
      ]
    },
    {
      "cell_type": "code",
      "source": [
        "s1.name"
      ],
      "metadata": {
        "colab": {
          "base_uri": "https://localhost:8080/",
          "height": 36
        },
        "id": "kD7wyDHDI2Wm",
        "outputId": "0be855f8-299d-46f9-c9a0-a5860d20d4e7"
      },
      "execution_count": null,
      "outputs": [
        {
          "output_type": "execute_result",
          "data": {
            "text/plain": [
              "'Tom'"
            ],
            "application/vnd.google.colaboratory.intrinsic+json": {
              "type": "string"
            }
          },
          "metadata": {},
          "execution_count": 19
        }
      ]
    },
    {
      "cell_type": "code",
      "source": [
        "s2.name"
      ],
      "metadata": {
        "colab": {
          "base_uri": "https://localhost:8080/",
          "height": 36
        },
        "id": "UxaeDBxyJMQp",
        "outputId": "e2e54d2a-c44b-4f0d-fe0b-0d15a5654872"
      },
      "execution_count": null,
      "outputs": [
        {
          "output_type": "execute_result",
          "data": {
            "text/plain": [
              "'Mary'"
            ],
            "application/vnd.google.colaboratory.intrinsic+json": {
              "type": "string"
            }
          },
          "metadata": {},
          "execution_count": 20
        }
      ]
    },
    {
      "cell_type": "code",
      "source": [
        "# To call a method defined in a class, you have to create object of class first (s1).\n",
        "# Then using object and dot operator you can call method. s1.grades()\n",
        "s1.grades()"
      ],
      "metadata": {
        "colab": {
          "base_uri": "https://localhost:8080/",
          "height": 36
        },
        "id": "HkWoKjUAJPSa",
        "outputId": "67aad479-bf08-4e28-a8ce-30a60341e96a"
      },
      "execution_count": null,
      "outputs": [
        {
          "output_type": "execute_result",
          "data": {
            "text/plain": [
              "'First Class'"
            ],
            "application/vnd.google.colaboratory.intrinsic+json": {
              "type": "string"
            }
          },
          "metadata": {},
          "execution_count": 21
        }
      ]
    },
    {
      "cell_type": "code",
      "source": [
        "s2.grades()"
      ],
      "metadata": {
        "colab": {
          "base_uri": "https://localhost:8080/",
          "height": 36
        },
        "id": "Oo4HxeFWJQ4u",
        "outputId": "15a22dcd-0c64-4444-d2ab-c35e060ea37c"
      },
      "execution_count": null,
      "outputs": [
        {
          "output_type": "execute_result",
          "data": {
            "text/plain": [
              "'Fail'"
            ],
            "application/vnd.google.colaboratory.intrinsic+json": {
              "type": "string"
            }
          },
          "metadata": {},
          "execution_count": 22
        }
      ]
    },
    {
      "cell_type": "code",
      "source": [
        "s2.marks"
      ],
      "metadata": {
        "colab": {
          "base_uri": "https://localhost:8080/"
        },
        "id": "0f_fG6EMJS_8",
        "outputId": "6b6d0ff7-0431-4300-b6a1-0f5d2b692d53"
      },
      "execution_count": null,
      "outputs": [
        {
          "output_type": "execute_result",
          "data": {
            "text/plain": [
              "45"
            ]
          },
          "metadata": {},
          "execution_count": 23
        }
      ]
    },
    {
      "cell_type": "code",
      "source": [
        "s1.name = 'Thomas'"
      ],
      "metadata": {
        "id": "zT125XPnJzp7"
      },
      "execution_count": null,
      "outputs": []
    },
    {
      "cell_type": "code",
      "source": [
        "s1.name"
      ],
      "metadata": {
        "colab": {
          "base_uri": "https://localhost:8080/",
          "height": 36
        },
        "id": "Qf2AQ3BBJ2hk",
        "outputId": "754974c8-de6c-424e-d1e5-8e5cc1109ec8"
      },
      "execution_count": null,
      "outputs": [
        {
          "output_type": "execute_result",
          "data": {
            "text/plain": [
              "'Thomas'"
            ],
            "application/vnd.google.colaboratory.intrinsic+json": {
              "type": "string"
            }
          },
          "metadata": {},
          "execution_count": 25
        }
      ]
    },
    {
      "cell_type": "code",
      "source": [
        "type(s1),type(s2)"
      ],
      "metadata": {
        "colab": {
          "base_uri": "https://localhost:8080/"
        },
        "id": "7VIPaBvzJ30Y",
        "outputId": "b8216ae5-e6af-4f52-d11b-37e67944fc33"
      },
      "execution_count": null,
      "outputs": [
        {
          "output_type": "execute_result",
          "data": {
            "text/plain": [
              "(__main__.Student, __main__.Student)"
            ]
          },
          "metadata": {},
          "execution_count": 26
        }
      ]
    },
    {
      "cell_type": "markdown",
      "source": [
        "Two important properties of OOP:\n",
        "1. Inheritance\n",
        "2. Polymorphism (Internally it uses function/method overriding)\n",
        "\n",
        "1. INHERITANCE\n",
        "Here we define a base(parent) class and you derive a derived class from base class.\n",
        "eg. Parent class will contain all common properties.\n",
        "Derived class will have specific properties.\n",
        "Animal (Base Class)\n",
        "Mammals, Non-Mammals(Derived Classes)\n",
        "Mammals and Non-Mammals will inherit all properties of base class + some specific properties of specific to itself.\n",
        "Inheritance relation is called 'is-A Relationship'.\n",
        "\n",
        "  Under Mammals you can have Cat and Dog class.\n",
        "\n",
        "In Person and Employee what should be the base and derived class?\n",
        "\n",
        "eg. person(name,age) - Dancer(dance()), Astronaut(launch_satellite())"
      ],
      "metadata": {
        "id": "W-3SGSTNKmsO"
      }
    },
    {
      "cell_type": "markdown",
      "source": [
        "## **Inheritance**"
      ],
      "metadata": {
        "id": "sSmWwT2ONfQn"
      }
    },
    {
      "cell_type": "markdown",
      "source": [
        "**Define the Base Class**"
      ],
      "metadata": {
        "id": "7GxFtcSgNse5"
      }
    },
    {
      "cell_type": "code",
      "source": [
        "class Person:\n",
        "  # Define the constructor\n",
        "  def __init__(self,name,age):\n",
        "    self.name = name\n",
        "    self.age = age\n",
        "\n",
        "  # Define instance methods\n",
        "  def say_hello(self):\n",
        "    print(f'{self.name} says hello')\n",
        "\n",
        "  def is_eligible(self):\n",
        "    if self.age > 18:\n",
        "      return 'Eligible'\n",
        "    else:\n",
        "      return 'Underage'\n"
      ],
      "metadata": {
        "id": "fMeHAbhMKerm"
      },
      "execution_count": null,
      "outputs": []
    },
    {
      "cell_type": "markdown",
      "source": [
        "**Define the Derived Classes**"
      ],
      "metadata": {
        "id": "xWoiuSdpOqbz"
      }
    },
    {
      "cell_type": "code",
      "source": [
        "class Astronaut(Person):\n",
        "  def __init__(self,name,age,type): # this is constructor of Derived class\n",
        "    # Call Constructor of Base/Super Class\n",
        "    # Before setting parameters of Astronaut class we should call base class's init method.\n",
        "    # Because Astronaut has all properties of Person(base) class i.e. 'name,age' and specific property of Astronaut as 'type'.\n",
        "    # To call init() method of Person class use super().__init__()\n",
        "\n",
        "    # initialize super class and derived class attributes\n",
        "    super().__init__(name,age) # it will initialize name and age of base class\n",
        "    self.type = type # it will initialize type of derived class\n",
        "\n",
        "# define method of derived class\n",
        "  def launch_satellite(self):\n",
        "    print(f'{self.name} is launching a satellite.')"
      ],
      "metadata": {
        "id": "sXusOeF9OpOb"
      },
      "execution_count": null,
      "outputs": []
    },
    {
      "cell_type": "code",
      "source": [
        "s1 = Astronaut('Tom',32,'Pilot')"
      ],
      "metadata": {
        "id": "VSFz24DuRlzh"
      },
      "execution_count": null,
      "outputs": []
    },
    {
      "cell_type": "code",
      "source": [
        "s2 = Astronaut('Mary',27,'Pilot')"
      ],
      "metadata": {
        "id": "p6H_Crq2S9ZP"
      },
      "execution_count": null,
      "outputs": []
    },
    {
      "cell_type": "code",
      "source": [
        "s1.launch_satellite()"
      ],
      "metadata": {
        "colab": {
          "base_uri": "https://localhost:8080/"
        },
        "id": "A_b740CuTDXo",
        "outputId": "c755ffd6-dfe9-4762-a8ad-2e17100976c8"
      },
      "execution_count": null,
      "outputs": [
        {
          "output_type": "stream",
          "name": "stdout",
          "text": [
            "Tom is launching a satellite.\n"
          ]
        }
      ]
    },
    {
      "cell_type": "code",
      "source": [
        "s2.launch_satellite()"
      ],
      "metadata": {
        "colab": {
          "base_uri": "https://localhost:8080/"
        },
        "id": "3GU6C783TGmd",
        "outputId": "dc74b8dd-0af5-4075-c5f9-5cdb6a941d6e"
      },
      "execution_count": null,
      "outputs": [
        {
          "output_type": "stream",
          "name": "stdout",
          "text": [
            "Mary is launching a satellite.\n"
          ]
        }
      ]
    },
    {
      "cell_type": "code",
      "source": [
        "s1.name"
      ],
      "metadata": {
        "colab": {
          "base_uri": "https://localhost:8080/",
          "height": 36
        },
        "id": "wz2HT6MMTTze",
        "outputId": "5ec763d5-914a-48eb-f5c7-4a6183dd77fa"
      },
      "execution_count": null,
      "outputs": [
        {
          "output_type": "execute_result",
          "data": {
            "text/plain": [
              "'Tom'"
            ],
            "application/vnd.google.colaboratory.intrinsic+json": {
              "type": "string"
            }
          },
          "metadata": {},
          "execution_count": 33
        }
      ]
    },
    {
      "cell_type": "code",
      "source": [
        "s2.type"
      ],
      "metadata": {
        "colab": {
          "base_uri": "https://localhost:8080/",
          "height": 36
        },
        "id": "_liz3RVuTV8y",
        "outputId": "ce4866ba-2507-42b7-bb0c-0787c766e766"
      },
      "execution_count": null,
      "outputs": [
        {
          "output_type": "execute_result",
          "data": {
            "text/plain": [
              "'Pilot'"
            ],
            "application/vnd.google.colaboratory.intrinsic+json": {
              "type": "string"
            }
          },
          "metadata": {},
          "execution_count": 34
        }
      ]
    },
    {
      "cell_type": "code",
      "source": [
        "# Method from base class\n",
        "s1.say_hello()"
      ],
      "metadata": {
        "colab": {
          "base_uri": "https://localhost:8080/"
        },
        "id": "q0h14bNaYnTh",
        "outputId": "a16c6d95-1262-47ab-b626-443149ff1238"
      },
      "execution_count": null,
      "outputs": [
        {
          "output_type": "stream",
          "name": "stdout",
          "text": [
            "Tom says hello\n"
          ]
        }
      ]
    },
    {
      "cell_type": "code",
      "source": [
        "# Method from base class\n",
        "s2.is_eligible()"
      ],
      "metadata": {
        "id": "18jU7N0VYrV-",
        "outputId": "3194b9c0-8d9a-48a8-af6a-f1bed4b292a5",
        "colab": {
          "base_uri": "https://localhost:8080/",
          "height": 36
        }
      },
      "execution_count": null,
      "outputs": [
        {
          "output_type": "execute_result",
          "data": {
            "text/plain": [
              "'Eligible'"
            ],
            "application/vnd.google.colaboratory.intrinsic+json": {
              "type": "string"
            }
          },
          "metadata": {},
          "execution_count": 36
        }
      ]
    },
    {
      "cell_type": "code",
      "source": [],
      "metadata": {
        "id": "yEcOU-GQYuAV"
      },
      "execution_count": null,
      "outputs": []
    },
    {
      "cell_type": "markdown",
      "source": [
        "Create another derived class of Person as Dancer. So, Dancer is a Person.\n",
        "\n",
        "Dancer has a property as genere and a method dance()\n",
        "\n",
        "Inside method dance() display the statement as: self.name is performing (genere) self.dance\n",
        "\n",
        "i.e. If genere is classical it will say: self.name is performing classical dance.\n",
        "\n",
        "If genere is bollywood it will say: self.name is performing bollywood dance"
      ],
      "metadata": {
        "id": "AWdNxVbaT_gL"
      }
    },
    {
      "cell_type": "code",
      "source": [
        "class Dancer(Person):\n",
        "  def __init__(self,name,age,genre): # this is constructor of Derived class\n",
        "    # Call Constructor of Base/Super Class\n",
        "    # initialize super class and derived class attributes\n",
        "    super().__init__(name,age) # it will initialize name and age of base class\n",
        "    self.genre = genre # it will initialize type of derived class\n",
        "\n",
        "# define methods of derived class\n",
        "  def dance(self):\n",
        "    print(f'{self.name} is performing a {self.genre} dance')"
      ],
      "metadata": {
        "id": "Id9-mOSPTXOW"
      },
      "execution_count": null,
      "outputs": []
    },
    {
      "cell_type": "code",
      "source": [
        "d1 = Dancer('Kate',32,'Classical')"
      ],
      "metadata": {
        "id": "K3dzb2anWvly"
      },
      "execution_count": null,
      "outputs": []
    },
    {
      "cell_type": "code",
      "source": [
        "d2 = Dancer('Madhuri',45,'Bollywood')"
      ],
      "metadata": {
        "id": "c00jDC8xXD7N"
      },
      "execution_count": null,
      "outputs": []
    },
    {
      "cell_type": "code",
      "source": [
        "# Method from derived class\n",
        "d1.dance()"
      ],
      "metadata": {
        "colab": {
          "base_uri": "https://localhost:8080/"
        },
        "id": "bGatTlj9Xx8e",
        "outputId": "03d76e5b-9b55-455b-aca3-6bbf8debf51c"
      },
      "execution_count": null,
      "outputs": [
        {
          "output_type": "stream",
          "name": "stdout",
          "text": [
            "Kate is performing a Classical dance\n"
          ]
        }
      ]
    },
    {
      "cell_type": "code",
      "source": [
        "d2.dance()"
      ],
      "metadata": {
        "colab": {
          "base_uri": "https://localhost:8080/"
        },
        "id": "Vx9GB_B8X20H",
        "outputId": "11f66a43-a449-414c-d5aa-c26935c4b3bf"
      },
      "execution_count": null,
      "outputs": [
        {
          "output_type": "stream",
          "name": "stdout",
          "text": [
            "Madhuri is performing a Bollywood dance\n"
          ]
        }
      ]
    },
    {
      "cell_type": "code",
      "source": [
        "# Method from base class\n",
        "d1.is_eligible()"
      ],
      "metadata": {
        "colab": {
          "base_uri": "https://localhost:8080/",
          "height": 36
        },
        "id": "Fpeug89QYObv",
        "outputId": "bb20adf7-15bd-4123-c457-6636fe26dcc4"
      },
      "execution_count": null,
      "outputs": [
        {
          "output_type": "execute_result",
          "data": {
            "text/plain": [
              "'Eligible'"
            ],
            "application/vnd.google.colaboratory.intrinsic+json": {
              "type": "string"
            }
          },
          "metadata": {},
          "execution_count": 42
        }
      ]
    },
    {
      "cell_type": "code",
      "source": [
        "# Method from base class\n",
        "d1.say_hello()"
      ],
      "metadata": {
        "colab": {
          "base_uri": "https://localhost:8080/"
        },
        "id": "7-cY8kzEYS3F",
        "outputId": "f70920e9-7135-40fa-f62d-599cef18646a"
      },
      "execution_count": null,
      "outputs": [
        {
          "output_type": "stream",
          "name": "stdout",
          "text": [
            "Kate says hello\n"
          ]
        }
      ]
    },
    {
      "cell_type": "markdown",
      "source": [
        "# Exercise\n",
        "Create Base class called Employee(name,age)\n",
        "\n",
        "Derived class HR(job='hr',job_desc='salesperson',hire_emp()),\n",
        "\n",
        "Manager(job='mgr',proj_name='attendance',manage_project())\n",
        "\n",
        "When we call hire_emp() method, it should say: Manager_name is hiring a salesperson.\n",
        "\n",
        "When we call manage_project(), it should say: Manager_name is managing attendance project.\n"
      ],
      "metadata": {
        "id": "FiiWQXEmiCjD"
      }
    },
    {
      "cell_type": "markdown",
      "source": [
        "# Variable Types\n",
        "1. Private:If you declare an attribute or method as private, it is accessible within that class only.\n",
        "\n",
        "2. Public: If you declare an attribute or method as public, it can be accessed from anywhere.\n",
        "\n",
        "In Python we don't have keyword as private. Here we use double underscore naming convention to declare a private variable.\n",
        "\n",
        "eg. __name : python will interpret it as a private variable.\n",
        "\n",
        "eg. If Person is a class having 2 attributes: name as public, __age as private.\n",
        "\n",
        "If object of class is created as follows: p1=Person('Tom',25)\n",
        "\n",
        "p1.name will give you name as Tom but p1.__age will raise an attribute error as its private.\n",
        "\n",
        "To see the age outside of class, create a method say def get_age(): return self.__age. This will work as method is also inside class only.\n",
        "\n",
        "Now if you say p1.get_age(), it will return you age."
      ],
      "metadata": {
        "id": "P4qbVx9wqn7w"
      }
    },
    {
      "cell_type": "markdown",
      "source": [
        "**Private and Public variables**"
      ],
      "metadata": {
        "id": "L7cFVv6MuSyL"
      }
    },
    {
      "cell_type": "code",
      "source": [
        "class Person:\n",
        "  def __init__(self,name,age):\n",
        "    self.name = name # public attribute\n",
        "    self.__age = age # private attribute"
      ],
      "metadata": {
        "id": "2RxIPRY6YY0h"
      },
      "execution_count": null,
      "outputs": []
    },
    {
      "cell_type": "code",
      "source": [
        "p = Person('Tom',25)"
      ],
      "metadata": {
        "id": "HvRK9GglS70y"
      },
      "execution_count": null,
      "outputs": []
    },
    {
      "cell_type": "code",
      "source": [
        "p.name"
      ],
      "metadata": {
        "colab": {
          "base_uri": "https://localhost:8080/",
          "height": 36
        },
        "id": "yi_KAChqu7Mg",
        "outputId": "900dbcd1-4ffb-4dcd-d0a5-78e74318111f"
      },
      "execution_count": null,
      "outputs": [
        {
          "output_type": "execute_result",
          "data": {
            "text/plain": [
              "'Tom'"
            ],
            "application/vnd.google.colaboratory.intrinsic+json": {
              "type": "string"
            }
          },
          "metadata": {},
          "execution_count": 48
        }
      ]
    },
    {
      "cell_type": "code",
      "source": [
        "p.__age"
      ],
      "metadata": {
        "id": "tYgKemLBu7QJ",
        "colab": {
          "base_uri": "https://localhost:8080/",
          "height": 141
        },
        "outputId": "e55131f4-e63c-4f3d-8f71-d5ffea0e393f"
      },
      "execution_count": null,
      "outputs": [
        {
          "output_type": "error",
          "ename": "AttributeError",
          "evalue": "'Person' object has no attribute '__age'",
          "traceback": [
            "\u001b[0;31m---------------------------------------------------------------------------\u001b[0m",
            "\u001b[0;31mAttributeError\u001b[0m                            Traceback (most recent call last)",
            "\u001b[0;32m<ipython-input-49-064b181be7ac>\u001b[0m in \u001b[0;36m<cell line: 1>\u001b[0;34m()\u001b[0m\n\u001b[0;32m----> 1\u001b[0;31m \u001b[0mp\u001b[0m\u001b[0;34m.\u001b[0m\u001b[0m__age\u001b[0m\u001b[0;34m\u001b[0m\u001b[0;34m\u001b[0m\u001b[0m\n\u001b[0m",
            "\u001b[0;31mAttributeError\u001b[0m: 'Person' object has no attribute '__age'"
          ]
        }
      ]
    },
    {
      "cell_type": "code",
      "source": [
        "# Define a method in class\n",
        "class Person:\n",
        "  def __init__(self,name,age):\n",
        "    self.name = name # public attribute\n",
        "    self.__age = age # private attribute\n",
        "  def get_age(self):\n",
        "    return self.__age"
      ],
      "metadata": {
        "id": "1EMURqksvG6h"
      },
      "execution_count": null,
      "outputs": []
    },
    {
      "cell_type": "code",
      "source": [
        "p = Person('Thomas',25)"
      ],
      "metadata": {
        "id": "Hr77JAApURHP"
      },
      "execution_count": null,
      "outputs": []
    },
    {
      "cell_type": "code",
      "source": [
        "p.name"
      ],
      "metadata": {
        "colab": {
          "base_uri": "https://localhost:8080/",
          "height": 36
        },
        "id": "ZYj9Jm7Mvh1J",
        "outputId": "613eb407-f373-4240-f602-8ac7fac85d9e"
      },
      "execution_count": null,
      "outputs": [
        {
          "output_type": "execute_result",
          "data": {
            "text/plain": [
              "'Thomas'"
            ],
            "application/vnd.google.colaboratory.intrinsic+json": {
              "type": "string"
            }
          },
          "metadata": {},
          "execution_count": 52
        }
      ]
    },
    {
      "cell_type": "code",
      "source": [
        "p.__age"
      ],
      "metadata": {
        "id": "-gac0L2IUaMB",
        "colab": {
          "base_uri": "https://localhost:8080/",
          "height": 141
        },
        "outputId": "3b250eb2-477c-4c27-825e-b9423270af0c"
      },
      "execution_count": null,
      "outputs": [
        {
          "output_type": "error",
          "ename": "AttributeError",
          "evalue": "'Person' object has no attribute '__age'",
          "traceback": [
            "\u001b[0;31m---------------------------------------------------------------------------\u001b[0m",
            "\u001b[0;31mAttributeError\u001b[0m                            Traceback (most recent call last)",
            "\u001b[0;32m<ipython-input-53-064b181be7ac>\u001b[0m in \u001b[0;36m<cell line: 1>\u001b[0;34m()\u001b[0m\n\u001b[0;32m----> 1\u001b[0;31m \u001b[0mp\u001b[0m\u001b[0;34m.\u001b[0m\u001b[0m__age\u001b[0m\u001b[0;34m\u001b[0m\u001b[0;34m\u001b[0m\u001b[0m\n\u001b[0m",
            "\u001b[0;31mAttributeError\u001b[0m: 'Person' object has no attribute '__age'"
          ]
        }
      ]
    },
    {
      "cell_type": "code",
      "source": [
        "p.get_age()"
      ],
      "metadata": {
        "colab": {
          "base_uri": "https://localhost:8080/"
        },
        "id": "RDN6e2ARvjza",
        "outputId": "521117ff-0f05-40fa-dcb2-aa9a2e23b3e9"
      },
      "execution_count": null,
      "outputs": [
        {
          "output_type": "execute_result",
          "data": {
            "text/plain": [
              "25"
            ]
          },
          "metadata": {},
          "execution_count": 54
        }
      ]
    },
    {
      "cell_type": "code",
      "source": [
        "# Define a method in class\n",
        "class Person:\n",
        "  def __init__(self,name,age):\n",
        "    self.name = name # public attribute\n",
        "    self.__age = age # private attribute\n",
        "  def get_age(self):\n",
        "    return self.__age\n",
        "  def set_age(self,age): # to change age\n",
        "    self.__age = age"
      ],
      "metadata": {
        "id": "TPmgF8jJvmre"
      },
      "execution_count": null,
      "outputs": []
    },
    {
      "cell_type": "code",
      "source": [
        "p = Person('Thomas',25)"
      ],
      "metadata": {
        "id": "tB6yFIZtU-1d"
      },
      "execution_count": null,
      "outputs": []
    },
    {
      "cell_type": "code",
      "source": [
        "p.set_age(35)"
      ],
      "metadata": {
        "id": "9oRejWLBVB5j"
      },
      "execution_count": null,
      "outputs": []
    },
    {
      "cell_type": "code",
      "source": [
        "p.get_age()"
      ],
      "metadata": {
        "colab": {
          "base_uri": "https://localhost:8080/"
        },
        "id": "dpHgQfmWVQlW",
        "outputId": "6acd16b3-d77b-4054-9475-ceb084e5ed98"
      },
      "execution_count": null,
      "outputs": [
        {
          "output_type": "execute_result",
          "data": {
            "text/plain": [
              "35"
            ]
          },
          "metadata": {},
          "execution_count": 58
        }
      ]
    },
    {
      "cell_type": "markdown",
      "source": [
        "Conclusion: Private variables are represented as double underscore.\n",
        "\n",
        "Once a variable is defined as private, anywhere inside class it is accessible i.e. you can use __age but outside of class it is not accessible.\n",
        "\n",
        "If you want to see or change private variables outside of class you have to define public set() and get() methods.\n",
        "\n"
      ],
      "metadata": {
        "id": "T0KHscAAVctj"
      }
    },
    {
      "cell_type": "markdown",
      "source": [
        "# **Polymorphism**\n",
        "Polymorphism means multiple forms. i.e. One function behaves differently based on the object or parameter on which it works.\n",
        "\n",
        "When we implement polymorphism using inheritance, it uses idea of Method Overriding.\n",
        "\n",
        "eg."
      ],
      "metadata": {
        "id": "tJGuI9ZfXEuv"
      }
    },
    {
      "cell_type": "code",
      "source": [
        "class Person:\n",
        "  # Define the constructor\n",
        "  def __init__(self,name,age):\n",
        "    self.name = name\n",
        "    self.age = age\n",
        "\n",
        "  # Define instance methods\n",
        "  def say_hello(self):\n",
        "    print(f'{self.name} says Hello from parent class.')"
      ],
      "metadata": {
        "id": "OQFTKozjVTiw"
      },
      "execution_count": null,
      "outputs": []
    },
    {
      "cell_type": "code",
      "source": [
        "class Astronaut(Person):\n",
        "  # Constructor of the derived class\n",
        "  def __init__(self,name,age,type):\n",
        "    # Call the constructor of the base/super class\n",
        "    super().__init__(name,age)\n",
        "    # Initialise the derived class attributes\n",
        "    self.type = type\n",
        "\n",
        "  def launch_satellite(self):\n",
        "    print(f'{self.name} is launching a satellite.')\n",
        "\n",
        "  def say_hello(self):\n",
        "    print(f'{self.type} says Hello from derived class.')\n"
      ],
      "metadata": {
        "id": "6ZlD4h1fZh49"
      },
      "execution_count": null,
      "outputs": []
    },
    {
      "cell_type": "code",
      "source": [
        "p = Person('Tom',25)"
      ],
      "metadata": {
        "id": "I6Tb4ZCDauws"
      },
      "execution_count": null,
      "outputs": []
    },
    {
      "cell_type": "code",
      "source": [
        "a = Astronaut('Alex',35,'Pilot')"
      ],
      "metadata": {
        "id": "E99iDSX6ayfA"
      },
      "execution_count": null,
      "outputs": []
    },
    {
      "cell_type": "code",
      "source": [
        "p.name"
      ],
      "metadata": {
        "colab": {
          "base_uri": "https://localhost:8080/",
          "height": 36
        },
        "id": "aBwGTD9wa8OG",
        "outputId": "a662f19f-657c-4227-ff5d-78187b49fccf"
      },
      "execution_count": null,
      "outputs": [
        {
          "output_type": "execute_result",
          "data": {
            "text/plain": [
              "'Tom'"
            ],
            "application/vnd.google.colaboratory.intrinsic+json": {
              "type": "string"
            }
          },
          "metadata": {},
          "execution_count": 63
        }
      ]
    },
    {
      "cell_type": "code",
      "source": [
        "a.name"
      ],
      "metadata": {
        "colab": {
          "base_uri": "https://localhost:8080/",
          "height": 36
        },
        "id": "PMJkoxpxa-Mv",
        "outputId": "16fa99d5-d36a-40c1-aa58-7a6ac8150473"
      },
      "execution_count": null,
      "outputs": [
        {
          "output_type": "execute_result",
          "data": {
            "text/plain": [
              "'Alex'"
            ],
            "application/vnd.google.colaboratory.intrinsic+json": {
              "type": "string"
            }
          },
          "metadata": {},
          "execution_count": 64
        }
      ]
    },
    {
      "cell_type": "code",
      "source": [
        "p.say_hello()"
      ],
      "metadata": {
        "colab": {
          "base_uri": "https://localhost:8080/"
        },
        "id": "4n8JcGhda_Oz",
        "outputId": "522fc14a-cf11-4413-c47a-faed9ea9ac49"
      },
      "execution_count": null,
      "outputs": [
        {
          "output_type": "stream",
          "name": "stdout",
          "text": [
            "Tom says Hello from parent class.\n"
          ]
        }
      ]
    },
    {
      "cell_type": "code",
      "source": [
        "a.say_hello()"
      ],
      "metadata": {
        "colab": {
          "base_uri": "https://localhost:8080/"
        },
        "id": "bZO0Z7LLbDIT",
        "outputId": "3ec708ed-388e-41bf-d61e-80d7dc0ff891"
      },
      "execution_count": null,
      "outputs": [
        {
          "output_type": "stream",
          "name": "stdout",
          "text": [
            "Pilot says Hello from derived class.\n"
          ]
        }
      ]
    },
    {
      "cell_type": "markdown",
      "source": [
        "say_hello() same method in base and derived class behaves differently depending on object we pass to it (name and type). This is polymorphism."
      ],
      "metadata": {
        "id": "J3JgwV9ibJ3z"
      }
    },
    {
      "cell_type": "markdown",
      "source": [
        "# **Conclusion of OOP:**\n",
        "Class is a Template.\n",
        "\n",
        "Objects are created based on templates.\n",
        "\n",
        "Class contains Properties/Attributes and Methods.\n",
        "\n",
        "In case of OOP there are 3 main concepts:\n",
        "\n",
        "1. Encapsulation: Whatever is related to class is clubbed together in one unit called Class. Here you can use idea of Public and Private variable. Encapsulation is also called Data hiding.\n",
        "\n",
        "2. Inheritance: Talks about base and derived class. All common properties are put in base class. You can create derived class from base class which inherits all properties of base class plus some additional properties of their own. It has 'is-A' relationship.\n",
        "\n",
        "3. Polymorphism: Any funcion can take multiple forms depending upon the object on which it works."
      ],
      "metadata": {
        "id": "BdO3WcxScpod"
      }
    },
    {
      "cell_type": "markdown",
      "source": [
        "# **Module, Package, Library**\n",
        "Module: collection of variables, functions and classes.\n",
        "\n",
        "Package: collection of modules.\n",
        "\n",
        "Library: collection of packages.\n",
        "Eg. Inside Pandas package we have method read_csv(), class DataFrame(), inside DataFrame we have attributes like data, index_vals, column_names,etc. and methods like merge(),join(),concat(),info(),head(),tail(),etc.\n",
        "To use all these we have to import pandas first.\n"
      ],
      "metadata": {
        "id": "rl-zvVMEfdBO"
      }
    },
    {
      "cell_type": "markdown",
      "source": [
        "# **File Handling and Exception Handling in Python**"
      ],
      "metadata": {
        "id": "-eBPg8O-f9Jn"
      }
    },
    {
      "cell_type": "code",
      "source": [
        "fo = open('dog_breeds.txt','r')"
      ],
      "metadata": {
        "id": "l0GhFS0bbFsp"
      },
      "execution_count": null,
      "outputs": []
    },
    {
      "cell_type": "code",
      "source": [
        "print('File name: ',fo.name)\n",
        "print('File mode: ',fo.mode)"
      ],
      "metadata": {
        "colab": {
          "base_uri": "https://localhost:8080/"
        },
        "id": "4xNlxWJEkdo-",
        "outputId": "e283f496-1e86-43fc-ef1b-c36216accf13"
      },
      "execution_count": null,
      "outputs": [
        {
          "output_type": "stream",
          "name": "stdout",
          "text": [
            "File name:  dog_breeds.txt\n",
            "File mode:  r\n"
          ]
        }
      ]
    },
    {
      "cell_type": "code",
      "source": [
        "print(fo.read())"
      ],
      "metadata": {
        "colab": {
          "base_uri": "https://localhost:8080/"
        },
        "id": "dydSj47Ykdx4",
        "outputId": "acde36d6-7ba1-4257-9993-fdd3521eac3a"
      },
      "execution_count": null,
      "outputs": [
        {
          "output_type": "stream",
          "name": "stdout",
          "text": [
            "Pug\n",
            "Jack Russell Terrier\n",
            "English Springer Spaniel\n",
            "German Shepherd\n",
            "Staffordshire Bull Terrier\n",
            "Cavalier king Charles Spaniel\n",
            "Golden Retriever\n",
            "West Highland White Terrier\n",
            "Boxer\n",
            "Border Terrier\n"
          ]
        }
      ]
    },
    {
      "cell_type": "code",
      "source": [
        "print('File Colsed: ',fo.closed) # # chek if file is closed or not. It is not closed."
      ],
      "metadata": {
        "colab": {
          "base_uri": "https://localhost:8080/"
        },
        "id": "lIj9oinjmDk6",
        "outputId": "3eddad47-6d34-4169-be51-c8bca5af7a52"
      },
      "execution_count": null,
      "outputs": [
        {
          "output_type": "stream",
          "name": "stdout",
          "text": [
            "File Colsed:  False\n"
          ]
        }
      ]
    },
    {
      "cell_type": "code",
      "source": [
        "fo.close() # after finishing your work with the flie always close it"
      ],
      "metadata": {
        "id": "WFWXp19hkd1Q"
      },
      "execution_count": null,
      "outputs": []
    },
    {
      "cell_type": "code",
      "source": [
        "print('File Colsed: ',fo.closed)"
      ],
      "metadata": {
        "colab": {
          "base_uri": "https://localhost:8080/"
        },
        "id": "0i6kDLQ3nD1O",
        "outputId": "aa6d3efd-59ad-42e0-80bc-5a5e87803806"
      },
      "execution_count": null,
      "outputs": [
        {
          "output_type": "stream",
          "name": "stdout",
          "text": [
            "File Colsed:  True\n"
          ]
        }
      ]
    },
    {
      "cell_type": "markdown",
      "source": [
        "### **with open()**\n",
        "It will automatically close the file once it finishes reading the contents of the file. No need to specifically close the file."
      ],
      "metadata": {
        "id": "z9hcimbfxpNC"
      }
    },
    {
      "cell_type": "code",
      "source": [
        "with open('dog_breeds.txt','r') as fo:\n",
        "  print(fo.read())"
      ],
      "metadata": {
        "colab": {
          "base_uri": "https://localhost:8080/"
        },
        "id": "dAUW7iJcmfcs",
        "outputId": "41d4d8da-d9fd-4ed0-dfa5-e157a11bea3b"
      },
      "execution_count": null,
      "outputs": [
        {
          "output_type": "stream",
          "name": "stdout",
          "text": [
            "Pug\n",
            "Jack Russell Terrier\n",
            "English Springer Spaniel\n",
            "German Shepherd\n",
            "Staffordshire Bull Terrier\n",
            "Cavalier king Charles Spaniel\n",
            "Golden Retriever\n",
            "West Highland White Terrier\n",
            "Boxer\n",
            "Border Terrier\n"
          ]
        }
      ]
    },
    {
      "cell_type": "code",
      "source": [
        "print('File Colsed: ',fo.closed) # chek if file is automatically closed or not. It is closed."
      ],
      "metadata": {
        "colab": {
          "base_uri": "https://localhost:8080/"
        },
        "id": "SJ1AToBqyHL3",
        "outputId": "e8c28285-d0fb-4573-a29c-8167ba7f9cf1"
      },
      "execution_count": null,
      "outputs": [
        {
          "output_type": "stream",
          "name": "stdout",
          "text": [
            "File Colsed:  True\n"
          ]
        }
      ]
    },
    {
      "cell_type": "code",
      "source": [
        "# read only first 20 bytes of the file\n",
        "with open('dog_breeds.txt','r') as fo:\n",
        "  print(fo.read(20))"
      ],
      "metadata": {
        "colab": {
          "base_uri": "https://localhost:8080/"
        },
        "id": "3kT0hdUwykTN",
        "outputId": "34d5e58f-024d-4cc7-fbd4-3f76b1980b19"
      },
      "execution_count": null,
      "outputs": [
        {
          "output_type": "stream",
          "name": "stdout",
          "text": [
            "Pug\n",
            "Jack Russell Ter\n"
          ]
        }
      ]
    },
    {
      "cell_type": "code",
      "source": [
        "# read records one by one using readlines() function\n",
        "with open('dog_breeds.txt','r') as fo:\n",
        "  for line in fo.readlines():\n",
        "    print(line, end=\"\")\n"
      ],
      "metadata": {
        "colab": {
          "base_uri": "https://localhost:8080/"
        },
        "id": "a0O2zz5nzjJI",
        "outputId": "8e35fc77-8442-44a3-b770-22122e37ac6a"
      },
      "execution_count": null,
      "outputs": [
        {
          "output_type": "stream",
          "name": "stdout",
          "text": [
            "Pug\n",
            "Jack Russell Terrier\n",
            "English Springer Spaniel\n",
            "German Shepherd\n",
            "Staffordshire Bull Terrier\n",
            "Cavalier king Charles Spaniel\n",
            "Golden Retriever\n",
            "West Highland White Terrier\n",
            "Boxer\n",
            "Border Terrier"
          ]
        }
      ]
    },
    {
      "cell_type": "markdown",
      "source": [
        "**Write to a file: open it in write mode**"
      ],
      "metadata": {
        "id": "L4OD5A8EXTk2"
      }
    },
    {
      "cell_type": "code",
      "source": [
        "with open('test.txt','w') as writer:\n",
        "  writer.write('This is automatically written from python.')"
      ],
      "metadata": {
        "id": "-Ms5hzDx0XPM"
      },
      "execution_count": null,
      "outputs": []
    },
    {
      "cell_type": "markdown",
      "source": [
        "**Create copy of a file**"
      ],
      "metadata": {
        "id": "Lswawweva_F9"
      }
    },
    {
      "cell_type": "code",
      "source": [
        "with open('dog_breeds.txt','r') as reader:\n",
        "  with open('breeds_copy.txt','w') as writer:\n",
        "    for line in reader.readlines():\n",
        "      writer.write(line)"
      ],
      "metadata": {
        "id": "PnrHquAYYFdt"
      },
      "execution_count": null,
      "outputs": []
    },
    {
      "cell_type": "code",
      "source": [
        "with open('students.csv','r') as fo:\n",
        "  for line in fo.readlines():\n",
        "    print(line)"
      ],
      "metadata": {
        "colab": {
          "base_uri": "https://localhost:8080/"
        },
        "id": "-KUXoznMaTEn",
        "outputId": "01f93818-3374-47ef-d005-7645fc6ec056"
      },
      "execution_count": null,
      "outputs": [
        {
          "output_type": "stream",
          "name": "stdout",
          "text": [
            "﻿Tom,28,Python,79\n",
            "\n",
            "Tim,34,Data Science,89\n",
            "\n",
            "Mary,22,Analytics,70\n",
            "\n",
            "George,39,Data Science,99\n",
            "\n"
          ]
        }
      ]
    },
    {
      "cell_type": "code",
      "source": [
        "with open('students.csv','r') as fo:\n",
        "  for line in fo.readlines():\n",
        "    student_info = line.split(',') #split() separates words based on comma and returns alist.\n",
        "    print('Name: ',student_info[0]) # reading list element with index number\n",
        "    print('Age: ',student_info[1])\n",
        "    print('Course: ',student_info[2])\n",
        "    print('Marks: ',student_info[3])\n",
        "    print('-'*20)"
      ],
      "metadata": {
        "colab": {
          "base_uri": "https://localhost:8080/"
        },
        "id": "4IoxLM3ygAht",
        "outputId": "b3fda8d1-6493-4a8d-b3bf-b0883b9df646"
      },
      "execution_count": null,
      "outputs": [
        {
          "output_type": "stream",
          "name": "stdout",
          "text": [
            "Name:  ﻿Tom\n",
            "Age:  28\n",
            "Course:  Python\n",
            "Marks:  79\n",
            "\n",
            "--------------------\n",
            "Name:  Tim\n",
            "Age:  34\n",
            "Course:  Data Science\n",
            "Marks:  89\n",
            "\n",
            "--------------------\n",
            "Name:  Mary\n",
            "Age:  22\n",
            "Course:  Analytics\n",
            "Marks:  70\n",
            "\n",
            "--------------------\n",
            "Name:  George\n",
            "Age:  39\n",
            "Course:  Data Science\n",
            "Marks:  99\n",
            "\n",
            "--------------------\n"
          ]
        }
      ]
    },
    {
      "cell_type": "markdown",
      "source": [
        "**Exceptions**\n",
        "To handle runtime errors. Code will handle these errors."
      ],
      "metadata": {
        "id": "zTWsV2S0hh_s"
      }
    },
    {
      "cell_type": "code",
      "source": [
        "# Try to open a file which is not available, it will raise an error\n",
        "with open('dogs.txt','r') as fo:\n",
        "  for line in fo.readlines():\n",
        "    print(line,end=\"\")"
      ],
      "metadata": {
        "colab": {
          "base_uri": "https://localhost:8080/",
          "height": 193
        },
        "id": "dt8pzPa7gxpv",
        "outputId": "b0365669-3596-43bb-fe18-dd1f02a97ec6"
      },
      "execution_count": null,
      "outputs": [
        {
          "output_type": "error",
          "ename": "FileNotFoundError",
          "evalue": "[Errno 2] No such file or directory: 'dogs.txt'",
          "traceback": [
            "\u001b[0;31m---------------------------------------------------------------------------\u001b[0m",
            "\u001b[0;31mFileNotFoundError\u001b[0m                         Traceback (most recent call last)",
            "\u001b[0;32m<ipython-input-81-803fe889da6a>\u001b[0m in \u001b[0;36m<cell line: 2>\u001b[0;34m()\u001b[0m\n\u001b[1;32m      1\u001b[0m \u001b[0;31m# Try to open a file which is not available, it will raise an error\u001b[0m\u001b[0;34m\u001b[0m\u001b[0;34m\u001b[0m\u001b[0m\n\u001b[0;32m----> 2\u001b[0;31m \u001b[0;32mwith\u001b[0m \u001b[0mopen\u001b[0m\u001b[0;34m(\u001b[0m\u001b[0;34m'dogs.txt'\u001b[0m\u001b[0;34m,\u001b[0m\u001b[0;34m'r'\u001b[0m\u001b[0;34m)\u001b[0m \u001b[0;32mas\u001b[0m \u001b[0mfo\u001b[0m\u001b[0;34m:\u001b[0m\u001b[0;34m\u001b[0m\u001b[0;34m\u001b[0m\u001b[0m\n\u001b[0m\u001b[1;32m      3\u001b[0m   \u001b[0;32mfor\u001b[0m \u001b[0mline\u001b[0m \u001b[0;32min\u001b[0m \u001b[0mfo\u001b[0m\u001b[0;34m.\u001b[0m\u001b[0mreadlines\u001b[0m\u001b[0;34m(\u001b[0m\u001b[0;34m)\u001b[0m\u001b[0;34m:\u001b[0m\u001b[0;34m\u001b[0m\u001b[0;34m\u001b[0m\u001b[0m\n\u001b[1;32m      4\u001b[0m     \u001b[0mprint\u001b[0m\u001b[0;34m(\u001b[0m\u001b[0mline\u001b[0m\u001b[0;34m,\u001b[0m\u001b[0mend\u001b[0m\u001b[0;34m=\u001b[0m\u001b[0;34m\"\"\u001b[0m\u001b[0;34m)\u001b[0m\u001b[0;34m\u001b[0m\u001b[0;34m\u001b[0m\u001b[0m\n",
            "\u001b[0;31mFileNotFoundError\u001b[0m: [Errno 2] No such file or directory: 'dogs.txt'"
          ]
        }
      ]
    },
    {
      "cell_type": "code",
      "source": [
        "# instead of error you will get error msg.\n",
        "try:\n",
        "  with open('dogs.txt','r') as fo:\n",
        "    for line in fo.readlines():\n",
        "      print(line,end=\"\")\n",
        "  print('Next Line') # This line will never be executed if file is not available\n",
        "except:\n",
        "  print(\"Is your file in the right location?\")\n",
        "print('Outside')"
      ],
      "metadata": {
        "colab": {
          "base_uri": "https://localhost:8080/"
        },
        "id": "e1JVtM6aiEAv",
        "outputId": "51318d0d-7618-4b8b-e222-9f4a34dfea87"
      },
      "execution_count": null,
      "outputs": [
        {
          "output_type": "stream",
          "name": "stdout",
          "text": [
            "Is your file in the right location?\n",
            "Outside\n"
          ]
        }
      ]
    },
    {
      "cell_type": "code",
      "source": [
        "# Predefined exceptions\n",
        "# google: built-in exceptions in python: Open python docs link\n",
        "# search FileNotFoundError\n",
        "\n",
        "try:\n",
        "  with open('dogs.txt','r') as fo:\n",
        "    for line in fo.readlines():\n",
        "      print(line,end=\"\")\n",
        "  print('Next Line') # This line will never be executed if file is not available\n",
        "except FileNotFoundError as fnerror:\n",
        "  print(fnerror) # contents of fnerror will be displayed. It is availabel in exception.\n",
        "print('Outside')"
      ],
      "metadata": {
        "colab": {
          "base_uri": "https://localhost:8080/"
        },
        "id": "hfK1t5LZi4b-",
        "outputId": "45b2015a-1a43-42b4-8cd1-15e57716c362"
      },
      "execution_count": null,
      "outputs": [
        {
          "output_type": "stream",
          "name": "stdout",
          "text": [
            "[Errno 2] No such file or directory: 'dogs.txt'\n",
            "Outside\n"
          ]
        }
      ]
    },
    {
      "cell_type": "markdown",
      "source": [
        "**AssertionError: To check certain conditions**"
      ],
      "metadata": {
        "id": "Z13IoJARl7Bx"
      }
    },
    {
      "cell_type": "code",
      "source": [
        "# Say requirement is age should be greater than 18\n",
        "age = 10 # try age=20\n",
        "try:\n",
        "  assert (age > 18), \"Age should be more than 18\"\n",
        "  print('Next Line')\n",
        "except AssertionError as error:\n",
        "  print(\"Assert Failed\",error)\n",
        "print('Outside')"
      ],
      "metadata": {
        "colab": {
          "base_uri": "https://localhost:8080/"
        },
        "id": "7gM91z1tlUlg",
        "outputId": "4223492f-b2fe-4c6d-ab6d-1709d4ebb404"
      },
      "execution_count": null,
      "outputs": [
        {
          "output_type": "stream",
          "name": "stdout",
          "text": [
            "Next Line\n",
            "Outside\n"
          ]
        }
      ]
    },
    {
      "cell_type": "markdown",
      "source": [
        "Use else condition i.e. if something goes wrong execute else part"
      ],
      "metadata": {
        "id": "c0jrgU_on5VL"
      }
    },
    {
      "cell_type": "code",
      "source": [
        "age = 10 # try age=19\n",
        "try:\n",
        "  assert (age > 18), \"Age should be over 18\"\n",
        "  print('Next Line')\n",
        "except AssertionError as error:\n",
        "  print(\"Assert Failed\",error)\n",
        "else:\n",
        "  print(\"Assert Succeeded\")\n",
        "print('Outside')"
      ],
      "metadata": {
        "colab": {
          "base_uri": "https://localhost:8080/"
        },
        "id": "YJvz1OOFmqcj",
        "outputId": "8fb26757-a437-4a05-faf5-5a10216514af"
      },
      "execution_count": null,
      "outputs": [
        {
          "output_type": "stream",
          "name": "stdout",
          "text": [
            "Next Line\n",
            "Assert Succeeded\n",
            "Outside\n"
          ]
        }
      ]
    },
    {
      "cell_type": "markdown",
      "source": [
        "# **finally**\n",
        "It will be executed irrespective of error i.e. if error is there or not. put code in finally block"
      ],
      "metadata": {
        "id": "j1bJwrP8oVYM"
      }
    },
    {
      "cell_type": "code",
      "source": [
        "age = 20 # try age=19\n",
        "try:\n",
        "  assert (age > 18), \"Age should be over 18\"\n",
        "  print('Next Line')\n",
        "except AssertionError as error:\n",
        "  print(\"Assert Failed\",error)\n",
        "else:\n",
        "  print(\"Assert Succeeded\")\n",
        "finally:\n",
        "  print(\"This is always executed\")\n",
        "print('Outside')"
      ],
      "metadata": {
        "colab": {
          "base_uri": "https://localhost:8080/"
        },
        "id": "KFnC-yWqmiw2",
        "outputId": "c45cd58a-37ba-4c26-9ffa-64490c7204f8"
      },
      "execution_count": null,
      "outputs": [
        {
          "output_type": "stream",
          "name": "stdout",
          "text": [
            "Next Line\n",
            "Assert Succeeded\n",
            "This is always executed\n",
            "Outside\n"
          ]
        }
      ]
    }
  ]
}